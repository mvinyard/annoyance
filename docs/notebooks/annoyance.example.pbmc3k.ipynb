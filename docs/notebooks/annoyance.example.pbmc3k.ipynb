{
 "cells": [
  {
   "cell_type": "markdown",
   "id": "6856fc05",
   "metadata": {},
   "source": [
    "### PBMC 3k dataset"
   ]
  },
  {
   "cell_type": "code",
   "execution_count": 1,
   "id": "c1ef95b2",
   "metadata": {},
   "outputs": [
    {
     "data": {
      "application/javascript": [
       "\n",
       "            setTimeout(function() {\n",
       "                var nbb_cell_id = 1;\n",
       "                var nbb_unformatted_code = \"%load_ext nb_black\\n\\nimport anndata as a\\nimport annoyance\";\n",
       "                var nbb_formatted_code = \"%load_ext nb_black\\n\\nimport anndata as a\\nimport annoyance\";\n",
       "                var nbb_cells = Jupyter.notebook.get_cells();\n",
       "                for (var i = 0; i < nbb_cells.length; ++i) {\n",
       "                    if (nbb_cells[i].input_prompt_number == nbb_cell_id) {\n",
       "                        if (nbb_cells[i].get_text() == nbb_unformatted_code) {\n",
       "                             nbb_cells[i].set_text(nbb_formatted_code);\n",
       "                        }\n",
       "                        break;\n",
       "                    }\n",
       "                }\n",
       "            }, 500);\n",
       "            "
      ],
      "text/plain": [
       "<IPython.core.display.Javascript object>"
      ]
     },
     "metadata": {},
     "output_type": "display_data"
    }
   ],
   "source": [
    "%load_ext nb_black\n",
    "\n",
    "import anndata as a\n",
    "import annoyance"
   ]
  },
  {
   "cell_type": "markdown",
   "id": "7b1be1a3",
   "metadata": {},
   "source": [
    "Example data is available via **Scanpy**\n",
    "\n",
    "```python\n",
    "# pip install scanpy\n",
    "import scanpy as sc\n",
    "adata = sc.datasets.pbmc3k_processed()\n",
    "```"
   ]
  },
  {
   "cell_type": "code",
   "execution_count": 2,
   "id": "cf407553",
   "metadata": {},
   "outputs": [
    {
     "data": {
      "text/plain": [
       "AnnData object with n_obs × n_vars = 2638 × 1838\n",
       "    obs: 'n_genes', 'percent_mito', 'n_counts', 'louvain'\n",
       "    var: 'n_cells'\n",
       "    uns: 'draw_graph', 'louvain', 'louvain_colors', 'neighbors', 'pca', 'rank_genes_groups'\n",
       "    obsm: 'X_draw_graph_fr', 'X_pca', 'X_tsne', 'X_umap'\n",
       "    varm: 'PCs'\n",
       "    obsp: 'connectivities', 'distances'"
      ]
     },
     "execution_count": 2,
     "metadata": {},
     "output_type": "execute_result"
    },
    {
     "data": {
      "application/javascript": [
       "\n",
       "            setTimeout(function() {\n",
       "                var nbb_cell_id = 2;\n",
       "                var nbb_unformatted_code = \"adata = a.read_h5ad(\\\"./data/pbmc3k.processed.h5ad\\\")\\nadata\";\n",
       "                var nbb_formatted_code = \"adata = a.read_h5ad(\\\"./data/pbmc3k.processed.h5ad\\\")\\nadata\";\n",
       "                var nbb_cells = Jupyter.notebook.get_cells();\n",
       "                for (var i = 0; i < nbb_cells.length; ++i) {\n",
       "                    if (nbb_cells[i].input_prompt_number == nbb_cell_id) {\n",
       "                        if (nbb_cells[i].get_text() == nbb_unformatted_code) {\n",
       "                             nbb_cells[i].set_text(nbb_formatted_code);\n",
       "                        }\n",
       "                        break;\n",
       "                    }\n",
       "                }\n",
       "            }, 500);\n",
       "            "
      ],
      "text/plain": [
       "<IPython.core.display.Javascript object>"
      ]
     },
     "metadata": {},
     "output_type": "display_data"
    }
   ],
   "source": [
    "adata = a.read_h5ad(\"./data/pbmc3k.processed.h5ad\")\n",
    "adata"
   ]
  },
  {
   "cell_type": "code",
   "execution_count": 3,
   "id": "5f039611",
   "metadata": {},
   "outputs": [
    {
     "name": "stdout",
     "output_type": "stream",
     "text": [
      "label mask created:\n",
      "\n",
      "CD4 T cells          1144\n",
      "CD14+ Monocytes       480\n",
      "B cells               342\n",
      "CD8 T cells           316\n",
      "NK cells              154\n",
      "FCGR3A+ Monocytes     150\n",
      "Dendritic cells        37\n",
      "Megakaryocytes         15\n",
      "Name: louvain, dtype: int64\n"
     ]
    },
    {
     "data": {
      "application/javascript": [
       "\n",
       "            setTimeout(function() {\n",
       "                var nbb_cell_id = 3;\n",
       "                var nbb_unformatted_code = \"annoy = annoyance.annoy()\\nannoy.split_data(\\n    adata,\\n    annot_col=\\\"louvain\\\",\\n    labels=adata.obs[\\\"louvain\\\"].unique().tolist(),\\n    on=\\\"X_pca\\\",\\n)\";\n",
       "                var nbb_formatted_code = \"annoy = annoyance.annoy()\\nannoy.split_data(\\n    adata,\\n    annot_col=\\\"louvain\\\",\\n    labels=adata.obs[\\\"louvain\\\"].unique().tolist(),\\n    on=\\\"X_pca\\\",\\n)\";\n",
       "                var nbb_cells = Jupyter.notebook.get_cells();\n",
       "                for (var i = 0; i < nbb_cells.length; ++i) {\n",
       "                    if (nbb_cells[i].input_prompt_number == nbb_cell_id) {\n",
       "                        if (nbb_cells[i].get_text() == nbb_unformatted_code) {\n",
       "                             nbb_cells[i].set_text(nbb_formatted_code);\n",
       "                        }\n",
       "                        break;\n",
       "                    }\n",
       "                }\n",
       "            }, 500);\n",
       "            "
      ],
      "text/plain": [
       "<IPython.core.display.Javascript object>"
      ]
     },
     "metadata": {},
     "output_type": "display_data"
    }
   ],
   "source": [
    "annoy = annoyance.annoy()\n",
    "annoy.split_data(\n",
    "    adata,\n",
    "    annot_col=\"louvain\",\n",
    "    labels=adata.obs[\"louvain\"].unique().tolist(),\n",
    "    on=\"X_pca\",\n",
    ")"
   ]
  },
  {
   "cell_type": "code",
   "execution_count": 4,
   "id": "d4cbc8a4",
   "metadata": {},
   "outputs": [
    {
     "name": "stdout",
     "output_type": "stream",
     "text": [
      "                   precision    recall  f1-score   support\n",
      "\n",
      "          B cells       1.00      1.00      1.00        86\n",
      "  CD14+ Monocytes       0.94      0.99      0.97       120\n",
      "      CD4 T cells       0.98      0.98      0.98       286\n",
      "      CD8 T cells       0.91      0.91      0.91        79\n",
      "  Dendritic cells       1.00      0.67      0.80         9\n",
      "FCGR3A+ Monocytes       0.95      0.95      0.95        37\n",
      "   Megakaryocytes       1.00      0.75      0.86         4\n",
      "         NK cells       0.97      0.95      0.96        39\n",
      "\n",
      "         accuracy                           0.97       660\n",
      "        macro avg       0.97      0.90      0.93       660\n",
      "     weighted avg       0.97      0.97      0.96       660\n",
      "\n",
      "f1 score: 0.9275290960851654\n"
     ]
    },
    {
     "data": {
      "application/javascript": [
       "\n",
       "            setTimeout(function() {\n",
       "                var nbb_cell_id = 4;\n",
       "                var nbb_unformatted_code = \"annoy.prebuild()\";\n",
       "                var nbb_formatted_code = \"annoy.prebuild()\";\n",
       "                var nbb_cells = Jupyter.notebook.get_cells();\n",
       "                for (var i = 0; i < nbb_cells.length; ++i) {\n",
       "                    if (nbb_cells[i].input_prompt_number == nbb_cell_id) {\n",
       "                        if (nbb_cells[i].get_text() == nbb_unformatted_code) {\n",
       "                             nbb_cells[i].set_text(nbb_formatted_code);\n",
       "                        }\n",
       "                        break;\n",
       "                    }\n",
       "                }\n",
       "            }, 500);\n",
       "            "
      ],
      "text/plain": [
       "<IPython.core.display.Javascript object>"
      ]
     },
     "metadata": {},
     "output_type": "display_data"
    }
   ],
   "source": [
    "annoy.prebuild()"
   ]
  },
  {
   "cell_type": "code",
   "execution_count": 5,
   "id": "8c9dd488",
   "metadata": {},
   "outputs": [
    {
     "name": "stdout",
     "output_type": "stream",
     "text": [
      "Annoyance annoy index saved to:\n",
      "\n",
      "\tannoyance_index/annoyance.annoy_idx.50_dims.20_neighbors.10_trees.ann\n",
      "\tannoyance_index/annoyance.annoy_idx.50_dims.20_neighbors.10_trees.txt\n"
     ]
    },
    {
     "data": {
      "application/javascript": [
       "\n",
       "            setTimeout(function() {\n",
       "                var nbb_cell_id = 5;\n",
       "                var nbb_unformatted_code = \"annoy.build()\\nannoy.save()\";\n",
       "                var nbb_formatted_code = \"annoy.build()\\nannoy.save()\";\n",
       "                var nbb_cells = Jupyter.notebook.get_cells();\n",
       "                for (var i = 0; i < nbb_cells.length; ++i) {\n",
       "                    if (nbb_cells[i].input_prompt_number == nbb_cell_id) {\n",
       "                        if (nbb_cells[i].get_text() == nbb_unformatted_code) {\n",
       "                             nbb_cells[i].set_text(nbb_formatted_code);\n",
       "                        }\n",
       "                        break;\n",
       "                    }\n",
       "                }\n",
       "            }, 500);\n",
       "            "
      ],
      "text/plain": [
       "<IPython.core.display.Javascript object>"
      ]
     },
     "metadata": {},
     "output_type": "display_data"
    }
   ],
   "source": [
    "annoy.build()\n",
    "annoy.save()"
   ]
  }
 ],
 "metadata": {
  "kernelspec": {
   "display_name": "Python [conda env:sc]",
   "language": "python",
   "name": "conda-env-sc-py"
  },
  "language_info": {
   "codemirror_mode": {
    "name": "ipython",
    "version": 3
   },
   "file_extension": ".py",
   "mimetype": "text/x-python",
   "name": "python",
   "nbconvert_exporter": "python",
   "pygments_lexer": "ipython3",
   "version": "3.7.11"
  }
 },
 "nbformat": 4,
 "nbformat_minor": 5
}
